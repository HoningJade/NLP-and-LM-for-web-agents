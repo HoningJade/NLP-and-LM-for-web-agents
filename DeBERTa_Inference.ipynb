{
 "cells": [
  {
   "cell_type": "code",
   "execution_count": 5,
   "id": "7ac4ef75-cb43-4b3e-9522-0bc0aeec1f07",
   "metadata": {},
   "outputs": [],
   "source": [
    "import torch\n",
    "from transformers import DebertaTokenizer, DebertaForSequenceClassification"
   ]
  },
  {
   "cell_type": "code",
   "execution_count": 10,
   "id": "9f895944-f69d-4b7c-b936-ace27f866bf1",
   "metadata": {},
   "outputs": [],
   "source": [
    "tokenizer = DebertaTokenizer.from_pretrained('microsoft/deberta-base')\n",
    "model = DebertaForSequenceClassification.from_pretrained('deberta_results/checkpoint-3000')\n",
    "\n",
    "def tokenize_function(text):\n",
    "    return tokenizer(text, padding='max_length', return_tensors='pt', truncation=True)"
   ]
  },
  {
   "cell_type": "code",
   "execution_count": 11,
   "id": "e627b18d-8f2b-4fbc-bf57-f36dd16c2e13",
   "metadata": {},
   "outputs": [],
   "source": [
    "objective = 'Enter text into the search bar.'\n",
    "# TODO: Replace with WebArena elements?\n",
    "elements = [\n",
    "    '[180] Search bar',\n",
    "    '[183] Login button',\n",
    "    '[190] Image',\n",
    "]\n",
    "prompts = [f'Objective: {objective}.\\nElement: {element}' for element in elements]"
   ]
  },
  {
   "cell_type": "code",
   "execution_count": 12,
   "id": "721e8104-54ec-467b-a5b1-23e6d712d375",
   "metadata": {},
   "outputs": [],
   "source": [
    "# TODO: Batch data to prevent OOM\n",
    "with torch.no_grad():\n",
    "    ex = tokenize_function(prompts)\n",
    "    out = model(**ex)\n",
    "    positive_logits = out.logits[:, 1]"
   ]
  },
  {
   "cell_type": "code",
   "execution_count": 13,
   "id": "f7c43245-b5af-468a-bfcb-105f9314a84e",
   "metadata": {},
   "outputs": [
    {
     "data": {
      "text/plain": [
       "tensor([ 1.3941, -0.1931, -0.7933])"
      ]
     },
     "execution_count": 13,
     "metadata": {},
     "output_type": "execute_result"
    }
   ],
   "source": [
    "# TODO: Take the top-k elements and keep them\n",
    "positive_logits"
   ]
  },
  {
   "cell_type": "code",
   "execution_count": null,
   "id": "f4e509a1-4d6a-4af9-a312-28582d97c0f2",
   "metadata": {},
   "outputs": [],
   "source": []
  }
 ],
 "metadata": {
  "kernelspec": {
   "display_name": "Python 3 (ipykernel)",
   "language": "python",
   "name": "python3"
  },
  "language_info": {
   "codemirror_mode": {
    "name": "ipython",
    "version": 3
   },
   "file_extension": ".py",
   "mimetype": "text/x-python",
   "name": "python",
   "nbconvert_exporter": "python",
   "pygments_lexer": "ipython3",
   "version": "3.10.0"
  }
 },
 "nbformat": 4,
 "nbformat_minor": 5
}
